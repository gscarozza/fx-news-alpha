{
 "cells": [
  {
   "cell_type": "markdown",
   "id": "e0599d14",
   "metadata": {},
   "source": [
    "# Baseline Sentiment Analysis Experiment\n",
    "## Model: FinBERT PT-BR\n",
    "- Hypothesis: Sentiment outputs, mapped to direction, can predict short-term exchange rate movements.\n",
    "- Objective: A baseline comparison before testing hyped-up LLMs capabilities\n",
    "- Why DL: \n",
    "    - FinBERT is widely cited in financial NLP literature\n",
    "    - outperforms general BERT and lexicon-based models on tasks like financial sentiment classification\n",
    "    - Traditional ML methods rely on sparse inputs or static word embeddings (like Word2Vec) which don't capture context\n",
    "    - it was used as a benchmark in very similar paper found at https://doi.org/10.1016/j.mlwa.2023.100508\n",
    "\n",
    "- Independent Variable (Predictor):\n",
    "    - Text: headline / article content\n",
    "    - Category: FinBERT sentiment output\n",
    "    - Binary Label: heuristic mapping (positive -> 1, negative -> -1) (bullish or bearish in commercial terms)\n",
    "    - (POSSIBLY CONSIDER as a control var/experiment?): Multi-class Label: neutral (0) label defined by threshold label (min exchange rate % change)\n",
    "\n",
    "- Dependent Variable (Ground Truth):\n",
    "    - Directional Movement: binary direction of exchange rate following news timestamp (time frame TBD)\n",
    "    - (POSSIBLY CONSIDER?): percent change in exchange rate over defined window? Measures profitability..."
   ]
  },
  {
   "cell_type": "markdown",
   "id": "1dad6a12",
   "metadata": {},
   "source": [
    "### Preprocessing"
   ]
  },
  {
   "cell_type": "markdown",
   "id": "f708569e",
   "metadata": {},
   "source": [
    "Bom Dia Mercado (BDM) → xlsx file with BDM articles and more → preprocessing to CSV → export to repository → final dataset"
   ]
  },
  {
   "cell_type": "code",
   "execution_count": null,
   "id": "6dc118b2",
   "metadata": {},
   "outputs": [
    {
     "name": "stdout",
     "output_type": "stream",
     "text": [
      "Empty DataFrame\n",
      "Columns: [Timestamp, HEADING, ARTICLE CONTENT, COMMENTS]\n",
      "Index: []\n"
     ]
    }
   ],
   "source": [
    "import pandas as pd\n",
    "from dateutil import parser\n",
    "\n",
    "# Step 0: Load the dataset\n",
    "df = pd.read_excel(\"../data/raw/allen-corpus.xlsx\")\n",
    "\n",
    "# Step 1–3: Normalize individual DATE and TIME cells\n",
    "def parse_datetime_components(date_cell, time_cell):\n",
    "    try:\n",
    "        # Coerce both to string and strip spaces\n",
    "        date_str = str(date_cell).strip()\n",
    "        time_str = str(time_cell).strip()\n",
    "        \n",
    "        # Combine and parse flexibly\n",
    "        dt = parser.parse(f\"{date_str} {time_str}\", dayfirst=True)\n",
    "        return dt.isoformat()\n",
    "    except Exception:\n",
    "        return pd.NaT  # mark invalid rows\n",
    "\n",
    "# Step 4: Create ISO 8601 Timestamp column\n",
    "df['Timestamp'] = df.apply(lambda row: parse_datetime_components(row['DATE'], row['TIME']), axis=1)\n",
    "\n",
    "# Step 5: Drop old columns\n",
    "df.drop(columns=['DATE', 'TIME', 'Index', 'DIRECTION', 'BRER', 'LABEL'], inplace=True)\n",
    "\n",
    "# Step 6: Clean newlines in ARTICLE CONTENT and COMMENTS\n",
    "for col in ['HEADING', 'ARTICLE CONTENT', 'COMMENTS']:\n",
    "    if col in df.columns:\n",
    "        df[col] = df[col].astype(str).str.replace(r'[\\r\\n]+', ' ', regex=True).str.strip()\n",
    "\n",
    "# Step 7: Reorder columns\n",
    "df = df[['Timestamp'] + [col for col in df.columns if col != 'Timestamp']]\n",
    "\n",
    "# Step 8: Save as CSV\n",
    "df.to_csv(\"../data/processed/allen-corpus.csv\", index=False, encoding='utf-8-sig')\n",
    "\n",
    "# Step 9: Check for invalid rows (passed)\n",
    "invalid_rows = df[df['Timestamp'].isna()]\n",
    "print(f\"{len(invalid_rows)} invalid rows found.\")\n",
    "print(invalid_rows)\n"
   ]
  },
  {
   "cell_type": "markdown",
   "id": "e418fb99",
   "metadata": {},
   "source": [
    "Bloomberg → Download USD/BRL exchange rates as excel file → preprocess to CSV → export to repository → final dataset"
   ]
  },
  {
   "cell_type": "code",
   "execution_count": null,
   "id": "0d91150d",
   "metadata": {},
   "outputs": [
    {
     "name": "stdout",
     "output_type": "stream",
     "text": [
      "0 invalid rows found.\n",
      "Empty DataFrame\n",
      "Columns: [Timestamp, USD/BRL]\n",
      "Index: []\n"
     ]
    }
   ],
   "source": [
    "import pandas as pd\n",
    "from dateutil import parser\n",
    "\n",
    "# Step 0: Load the dataset\n",
    "df = pd.read_excel(\"../data/raw/usd-brl.xlsx\")\n",
    "\n",
    "# Step 1: Clean column names\n",
    "df.columns = [col.strip() for col in df.columns]\n",
    "df.rename(columns={\"Date\": \"Raw Timestamp\", \"Último preço\": \"USD/BRL\"}, inplace=True)\n",
    "\n",
    "# Step 2: Parse \"Raw Timestamp\" into ISO 8601 format\n",
    "def parse_iso8601(raw):\n",
    "    try:\n",
    "        return parser.parse(str(raw).strip()).isoformat()\n",
    "    except Exception:\n",
    "        return pd.NaT\n",
    "\n",
    "df[\"Timestamp\"] = df[\"Raw Timestamp\"].apply(parse_iso8601)\n",
    "\n",
    "# Step 3: Drop the original column\n",
    "df.drop(columns=[\"Raw Timestamp\"], inplace=True)\n",
    "\n",
    "# Step 4: Reorder columns\n",
    "df = df[[\"Timestamp\", \"USD/BRL\"]]\n",
    "\n",
    "# Step 5: Save to CSV\n",
    "df.to_csv(\"../data/processed/usd-brl.csv\", index=False, encoding=\"utf-8-sig\")\n",
    "\n",
    "# Step 6: Print invalid rows (if any)\n",
    "invalid_rows = df[df[\"Timestamp\"].isna()]\n",
    "print(f\"{len(invalid_rows)} invalid rows found.\")\n",
    "print(invalid_rows)"
   ]
  }
 ],
 "metadata": {
  "kernelspec": {
   "display_name": ".venv_temp",
   "language": "python",
   "name": "python3"
  },
  "language_info": {
   "codemirror_mode": {
    "name": "ipython",
    "version": 3
   },
   "file_extension": ".py",
   "mimetype": "text/x-python",
   "name": "python",
   "nbconvert_exporter": "python",
   "pygments_lexer": "ipython3",
   "version": "3.13.2"
  }
 },
 "nbformat": 4,
 "nbformat_minor": 5
}
